{
 "cells": [
  {
   "cell_type": "code",
   "execution_count": null,
   "metadata": {},
   "outputs": [
    {
     "ename": "",
     "evalue": "",
     "output_type": "error",
     "traceback": [
      "\u001b[1;31m커널을 시작하지 못했습니다. \n",
      "Traceback (most recent call last):\n",
      "  File \"/Users/kimwoojin/.vscode/extensions/ms-toolsai.jupyter-2022.6.1201981810/pythonFiles/vscode_datascience_helpers/jupyter_daemon.py\", line 158, in _start_notebook\n",
      "    from notebook import notebookapp as app\n",
      "  File \"/Users/kimwoojin/Library/Python/3.8/lib/python/site-packages/notebook/notebookapp.py\", line 77, in <module>\n",
      "    from .services.kernels.kernelmanager import MappingKernelManager, AsyncMappingKernelManager\n",
      "  File \"/Users/kimwoojin/Library/Python/3.8/lib/python/site-packages/notebook/services/kernels/kernelmanager.py\", line 18, in <module>\n",
      "    from jupyter_client.session import Session\n",
      "  File \"/Users/kimwoojin/Library/Python/3.8/lib/python/site-packages/jupyter_client/__init__.py\", line 8, in <module>\n",
      "    from .asynchronous import AsyncKernelClient  # noqa\n",
      "  File \"/Users/kimwoojin/Library/Python/3.8/lib/python/site-packages/jupyter_client/asynchronous/__init__.py\", line 1, in <module>\n",
      "    from .client import AsyncKernelClient  # noqa\n",
      "  File \"/Users/kimwoojin/Library/Python/3.8/lib/python/site-packages/jupyter_client/asynchronous/client.py\", line 6, in <module>\n",
      "    from jupyter_client.channels import HBChannel\n",
      "  File \"/Users/kimwoojin/Library/Python/3.8/lib/python/site-packages/jupyter_client/channels.py\", line 12, in <module>\n",
      "    import zmq.asyncio\n",
      "  File \"/Users/kimwoojin/Library/Python/3.8/lib/python/site-packages/zmq/__init__.py\", line 103, in <module>\n",
      "    from zmq import backend\n",
      "  File \"/Users/kimwoojin/Library/Python/3.8/lib/python/site-packages/zmq/backend/__init__.py\", line 31, in <module>\n",
      "    raise original_error from None\n",
      "  File \"/Users/kimwoojin/Library/Python/3.8/lib/python/site-packages/zmq/backend/__init__.py\", line 26, in <module>\n",
      "    _ns = select_backend(first)\n",
      "  File \"/Users/kimwoojin/Library/Python/3.8/lib/python/site-packages/zmq/backend/select.py\", line 40, in select_backend\n",
      "    return ns\n",
      "AttributeError: module 'zmq.backend.cython' has no attribute 'constants'\n",
      "\n",
      "During handling of the above exception, another exception occurred:\n",
      "\n",
      "Traceback (most recent call last):\n",
      "  File \"/Users/kimwoojin/.vscode/extensions/ms-toolsai.jupyter-2022.6.1201981810/pythonFiles/vscode_datascience_helpers/daemon/daemon_python.py\", line 54, in _decorator\n",
      "    return func(self, *args, **kwargs)\n",
      "  File \"/Users/kimwoojin/.vscode/extensions/ms-toolsai.jupyter-2022.6.1201981810/pythonFiles/vscode_datascience_helpers/jupyter_daemon.py\", line 111, in m_exec_module_observable\n",
      "    self._start_notebook(args, cwd, env)\n",
      "  File \"/Users/kimwoojin/.vscode/extensions/ms-toolsai.jupyter-2022.6.1201981810/pythonFiles/vscode_datascience_helpers/jupyter_daemon.py\", line 160, in _start_notebook\n",
      "    from notebook import app as app\n",
      "ImportError: cannot import name 'app' from 'notebook' (/Users/kimwoojin/Library/Python/3.8/lib/python/site-packages/notebook/__init__.py)\n",
      "\n",
      "Failed to run jupyter as observable with args notebook --no-browser --notebook-dir=\"/Users/kimwoojin\" --config=/var/folders/2m/0v_h18dx7xd4d2nspqd9j8040000gn/T/e807810b-85f8-48d5-b256-7933dd975a3b/jupyter_notebook_config.py --NotebookApp.iopub_data_rate_limit=10000000000.0. \n",
      "자세한 내용은 Jupyter <a href='command:jupyter.viewOutput'>로그</a>를 참조하세요."
     ]
    }
   ],
   "source": [
    "import pandas as pd\n",
    "data = [['Choi',22],['Kim',26],['Lee',26]]\n",
    "df = pd.DataFrame(data,columns=['Name','Age'])\n",
    "print(df)"
   ]
  },
  {
   "cell_type": "code",
   "execution_count": null,
   "metadata": {},
   "outputs": [],
   "source": []
  },
  {
   "cell_type": "code",
   "execution_count": null,
   "metadata": {},
   "outputs": [],
   "source": []
  },
  {
   "cell_type": "code",
   "execution_count": null,
   "metadata": {},
   "outputs": [],
   "source": []
  }
 ],
 "metadata": {
  "kernelspec": {
   "display_name": "Python 3.9.12 ('base')",
   "language": "python",
   "name": "python3"
  },
  "language_info": {
   "name": "python",
   "version": "3.9.12"
  },
  "orig_nbformat": 4,
  "vscode": {
   "interpreter": {
    "hash": "4c1434e5bbb395422e07c51d5c0af4527595255099b265a25fc43965c82c8b29"
   }
  }
 },
 "nbformat": 4,
 "nbformat_minor": 2
}
