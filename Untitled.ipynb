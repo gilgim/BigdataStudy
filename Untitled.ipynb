{
 "cells": [
  {
   "cell_type": "code",
   "execution_count": null,
   "id": "0fc6072a",
   "metadata": {},
   "outputs": [],
   "source": [
    "#    단순명료한 언어 Python, 그에따른 스타일이 정립되어있음.\n",
    "#    PEP8 : 협업을 위한 공통 작성법 \n",
    "#    문법적의미가 있다면 탭이 아닌 스페이스 4개를 사용하여 들여쓰기한다. 표현식이 길다면 추가로 4개더!\n",
    "#    클래스, 함수는 빈줄 두개 클래스 안에 메서드는 빈줄 한개로 구분한다.\n",
    "#    리스트 인덱스, 함수호출, 키워드 인수 할당엔 스페이스 사용하지 않는다.\n",
    "#    변수 할당 앞뒤에 스페이스 하나만 사용한다.\n",
    "#    클래스와 예외는 Capitalizedword(대문자)\n",
    "#    모듈 수준 상수는 전부 대문자를 사용한다.\n",
    "#    클래스의 인스턴트 메소드의 첫번째 파라미터는 셀프로 지정지정\n",
    "#    클래스 메서드의 첫 번째 파라미터 이름은 cls로 지정"
   ]
  },
  {
   "cell_type": "code",
   "execution_count": 3,
   "id": "3f6d0fbf",
   "metadata": {},
   "outputs": [],
   "source": [
    "#    변수-숫자\n",
    "#    정수형\n",
    "a = 1\n",
    "b = -1\n",
    "c = 0\n",
    "#    실수형\n",
    "d = 4.24*10000\n",
    "d = 4.24E10\n",
    "#    진수표현\n",
    "f = 0o177    #8진수 \n",
    "e = 0xABC    #16진수"
   ]
  },
  {
   "cell_type": "code",
   "execution_count": 6,
   "id": "689cdaae",
   "metadata": {},
   "outputs": [],
   "source": [
    "#    문자열\n",
    "#    '''''',\"\"\"\"\"\",'',\"\" 4종류가 있다.\n",
    "#    문자열 곱하기도 존재한다.\n",
    "#    len 문자열 길이\n",
    "#    문자열 대입 // 대입할 곳 : %s, %d, %f, %%, 대입 값 : 단수->% 3,\"Hello World\", 복수->% (12,12)"
   ]
  },
  {
   "cell_type": "code",
   "execution_count": 8,
   "id": "a07d95f7",
   "metadata": {},
   "outputs": [
    {
     "name": "stdout",
     "output_type": "stream",
     "text": [
      "[1, 2]\n"
     ]
    }
   ],
   "source": [
    "#    리스트\n",
    "temp_list = [1,2,3,4]\n",
    "del temp_list[2:]\n",
    "print(temp_list)"
   ]
  },
  {
   "cell_type": "code",
   "execution_count": null,
   "id": "9b0bdddc",
   "metadata": {},
   "outputs": [],
   "source": [
    "#    가정법 표현법\n",
    "#    if not a is b 가 아닌 if a is not b 라고 한다.\n",
    "#    bytes, str, unicode 이렇게 타입이 존재.\n",
    "#    python2(str(raw 8비트), unicode(유니코드를 저장한다.)), python3(str(유니코드 저장), bytes(raw8비트를 저장한다.))\n",
    "#    유니코드를 raw로 변경하는데 encode를 사용한다."
   ]
  }
 ],
 "metadata": {
  "kernelspec": {
   "display_name": "Python 3.9.12 ('base')",
   "language": "python",
   "name": "python3"
  },
  "language_info": {
   "codemirror_mode": {
    "name": "ipython",
    "version": 3
   },
   "file_extension": ".py",
   "mimetype": "text/x-python",
   "name": "python",
   "nbconvert_exporter": "python",
   "pygments_lexer": "ipython3",
   "version": "3.9.12"
  },
  "vscode": {
   "interpreter": {
    "hash": "4c1434e5bbb395422e07c51d5c0af4527595255099b265a25fc43965c82c8b29"
   }
  }
 },
 "nbformat": 4,
 "nbformat_minor": 5
}
